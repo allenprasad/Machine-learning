{
 "cells": [
  {
   "cell_type": "code",
   "execution_count": 528,
   "metadata": {},
   "outputs": [],
   "source": [
    "import numpy\n",
    "\n",
    "learning_rate = 0.0001    \n",
    "nepoch = 25               \n",
    "T = 10  \n",
    "hidden_dim = 200         \n",
    "output_dim = 1\n",
    "\n",
    "bptt_truncate = 5\n",
    "min_clip_value = -10\n",
    "max_clip_value = 10\n",
    "\n",
    "U = np.random.uniform(0, 1, (hidden_dim, T))\n",
    "W = np.random.uniform(0, 1, (hidden_dim, hidden_dim))\n",
    "V = np.random.uniform(0, 1, (output_dim, hidden_dim))"
   ]
  },
  {
   "cell_type": "code",
   "execution_count": 529,
   "metadata": {},
   "outputs": [],
   "source": [
    "# https://towardsdatascience.com/recurrent-neural-networks-rnns-3f06d7653a85\n",
    "\n",
    "import math\n",
    "for epoch in range(20):\n",
    "    \n",
    "    for i in range(Y.shape[0]):\n",
    "        x = x_new[i]\n",
    "        y = y_new[i]\n",
    "        \n",
    "        u,w,v,h = {},{},{},{}\n",
    "        \n",
    "        h[-1] = np.zeros((200,1))\n",
    "        \n",
    "        for t in range(T):\n",
    "            timestep_input = np.zeros(x.shape)\n",
    "            timestep_input[t] = x[t]\n",
    "            u[t] = np.array(np.dot(U, timestep_input),dtype=np.float32)\n",
    "            w[t] = np.array(np.dot(W, h[t-1]),dtype=np.float32)\n",
    "            h[t] = np.tanh(w[t] + u[t])\n",
    "            v = np.dot(V, h[t])\n",
    "        \n",
    "        error = (v - y)\n",
    "        \n",
    "        \n",
    "        dU, dW, dV = np.zeros_like(U), np.zeros_like(W), np.zeros_like(V)\n",
    "        dh_next = np.zeros_like(h[0])\n",
    "        for t in reversed(range(10)):\n",
    "            timestep_input = np.zeros(x.shape)\n",
    "            timestep_input[t] = x[t]\n",
    "            dV = dV + np.dot(error, np.transpose(h[t]))\n",
    "            dh = np.dot(np.transpose(V), error) + dh_next\n",
    "            dU = dU + np.dot(((1 - h[t] * h[t]) * dh) , np.transpose(timestep_input))\n",
    "            dW = dW + np.dot(((1 - h[t] * h[t]) * dh), np.transpose(h[t]))\n",
    "            dh_next = np.dot(np.transpose(W), ((1 - h[t] * h[t]) * dh  ))\n",
    "            \n",
    "            if dU.max() > max_clip_value:\n",
    "                dU[dU > max_clip_value] = max_clip_value\n",
    "            if dV.max() > max_clip_value:\n",
    "                dV[dV > max_clip_value] = max_clip_value\n",
    "            if dW.max() > max_clip_value:\n",
    "                dW[dW > max_clip_value] = max_clip_value\n",
    "                \n",
    "            \n",
    "            if dU.min() < min_clip_value:\n",
    "                dU[dU < min_clip_value] = min_clip_value\n",
    "            if dV.min() < min_clip_value:\n",
    "                dV[dV < min_clip_value] = min_clip_value\n",
    "            if dW.min() < min_clip_value:\n",
    "                dW[dW < min_clip_value] = min_clip_value\n",
    "        \n",
    "        U = U - learning_rate * dU\n",
    "        V = V - learning_rate * dV\n",
    "        W = W -  learning_rate * dW"
   ]
  },
  {
   "cell_type": "code",
   "execution_count": 533,
   "metadata": {},
   "outputs": [
    {
     "name": "stdout",
     "output_type": "stream",
     "text": [
      "[[-0.61032898 -0.61032898 -0.61032898]]\n"
     ]
    }
   ],
   "source": [
    "preds = []\n",
    "h = {}\n",
    "for i in range(1):\n",
    "    x, y = x_new[0], y_new[0]\n",
    "    h[-1] = np.zeros((hidden_dim, 1))\n",
    "    # Forward pass\n",
    "    for t in range(T):\n",
    "        timestep_input = np.zeros(x.shape)\n",
    "        timestep_input[t] = x[t]\n",
    "        u = np.dot(U, timestep_input)\n",
    "        w = np.dot(W, h[t-1])\n",
    "        h[t] = np.tanh(w + u)\n",
    "        v = np.dot(V, h[t])\n",
    "\n",
    "    preds.append(mulv)\n",
    "    \n",
    "mulv\n",
    "\n",
    "print(mulv)\n",
    "out = np.reshape(mulv,(-1, 3))\n",
    "out = scaler.inverse_transform(out)\n",
    "out = np.reshape(out, (1, 1, 3))"
   ]
  },
  {
   "cell_type": "code",
   "execution_count": 525,
   "metadata": {},
   "outputs": [
    {
     "data": {
      "text/plain": [
       "array([[122,  94, 187],\n",
       "       [115,  90, 180],\n",
       "       [108,  86, 173],\n",
       "       [101,  82, 166],\n",
       "       [ 94,  78, 159],\n",
       "       [ 87,  74, 152],\n",
       "       [ 80,  70, 145],\n",
       "       [ 73,  66, 138],\n",
       "       [ 66,  62, 131],\n",
       "       [ 59,  58, 124]], dtype=int32)"
      ]
     },
     "execution_count": 525,
     "metadata": {},
     "output_type": "execute_result"
    }
   ],
   "source": [
    "X[0]"
   ]
  },
  {
   "cell_type": "code",
   "execution_count": 467,
   "metadata": {},
   "outputs": [],
   "source": [
    "import os\n",
    "import pandas as pd\n",
    "import random\n",
    "import numpy as np\n",
    "\n",
    "\n",
    "def AP(a,d,n): \n",
    "\n",
    "    # Printing AP by simply adding d \n",
    "    # to previous term. \n",
    "    curr_term = a \n",
    "    ap = []\n",
    "\n",
    "    for i in range(1,n+1): \n",
    "        ap.append(curr_term)\n",
    "        curr_term =curr_term + d \n",
    "    \n",
    "    return ap\n",
    "           \n",
    "\n",
    "def generate_data(tatal_sample, num_obs_min,num_obs_max, slope_min_range, slope_max_range,std):\n",
    "    observations = {}\n",
    "    oberserved_data = []\n",
    "    target = []\n",
    "    for per_example in range(tatal_sample):\n",
    "        \n",
    "#         n = random.randrange(num_obs_min,num_obs_max)\n",
    "        n = 10\n",
    "        target_number = n+5\n",
    "        std = std\n",
    "#         slope = random.randrange(slope_min_range,slope_max_range)\n",
    "#         slope1 =  random.randrange(slope_min_range,slope_max_range)\n",
    "#         b = np.random.randn(target_number)*std\n",
    "        \n",
    "        x_intial_number = random.randrange(2,200)\n",
    "        y_initial_number = random.randrange(2,200)\n",
    "        z_initial_number = random.randrange(2,200)\n",
    "        x_diff = random.randrange(1,10)\n",
    "        y_diff = random.randrange(1,10)\n",
    "        z_diff = random.randrange(1,10)\n",
    "        x = AP(x_intial_number,x_diff,target_number)\n",
    "        y = AP(y_initial_number,y_diff,target_number)\n",
    "        z = AP(z_initial_number,z_diff,target_number)\n",
    "#         print(x)\n",
    "#         print(y)\n",
    "#         print(z)\n",
    "        sort_type = random.choice([1,2])\n",
    "#         sort_type = 1\n",
    "#         print(sort_type)\n",
    "        if sort_type == 1:\n",
    "            pass\n",
    "        else:\n",
    "            x = x[::-1]\n",
    "            y = y[::-1]\n",
    "            z = z[::-1]\n",
    "        oberserved_data.append([[x[i],y[i],z[i]] for i in range(n)])\n",
    "        target.append([[x[i],y[i],z[i]] for i in range(1)])\n",
    "    observations['fly_position'] = oberserved_data\n",
    "    observations['target'] = target\n",
    "    data = pd.DataFrame(observations)\n",
    "    data.to_csv(os.getcwd()+\"/fly_position.csv\")\n",
    "    return oberserved_data,target"
   ]
  },
  {
   "cell_type": "code",
   "execution_count": 474,
   "metadata": {},
   "outputs": [],
   "source": [
    "data_final,observations = generate_data(100,10,15,10,20,50)"
   ]
  },
  {
   "cell_type": "code",
   "execution_count": 475,
   "metadata": {},
   "outputs": [],
   "source": [
    "import keras\n",
    "X_new = keras.preprocessing.sequence.pad_sequences(data_final,maxlen=10)\n",
    "X = np.array(X_new)\n",
    "Y = np.array(observations)"
   ]
  },
  {
   "cell_type": "code",
   "execution_count": 476,
   "metadata": {},
   "outputs": [],
   "source": [
    "import numpy as np\n",
    "from sklearn.preprocessing import MinMaxScaler\n",
    "\n",
    "scaler = MinMaxScaler(feature_range=(0, 1))\n",
    "num_instances, num_time_steps, num_features = X.shape\n",
    "x_new = np.reshape(X,(-1, num_features))\n",
    "x_new = scaler.fit_transform(x_new)\n",
    "x_new = np.reshape(x_new, (num_instances, num_time_steps, num_features))\n",
    "\n",
    "num_instances, num_time_steps, num_features = Y.shape\n",
    "y_new = np.reshape(Y,(-1, num_features))\n",
    "y_new = scaler.fit_transform(y_new)\n",
    "y_new = np.reshape(y_new, (num_instances, num_time_steps, num_features))"
   ]
  },
  {
   "cell_type": "code",
   "execution_count": null,
   "metadata": {},
   "outputs": [],
   "source": []
  }
 ],
 "metadata": {
  "kernelspec": {
   "display_name": "Python 3",
   "language": "python",
   "name": "python3"
  },
  "language_info": {
   "codemirror_mode": {
    "name": "ipython",
    "version": 3
   },
   "file_extension": ".py",
   "mimetype": "text/x-python",
   "name": "python",
   "nbconvert_exporter": "python",
   "pygments_lexer": "ipython3",
   "version": "3.7.4"
  }
 },
 "nbformat": 4,
 "nbformat_minor": 2
}
